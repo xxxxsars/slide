{
 "cells": [
  {
   "cell_type": "markdown",
   "metadata": {
    "slideshow": {
     "slide_type": "slide"
    }
   },
   "source": [
    "# Object Storage\n",
    "\n",
    "> 以minio與amazon S3為例\n",
    "\n",
    "\n",
    "講者:[Andy.Huang](mailto:Reui.Huang@qsitw.com)"
   ]
  },
  {
   "cell_type": "markdown",
   "metadata": {
    "slideshow": {
     "slide_type": "slide"
    }
   },
   "source": [
    "### 什麼是Object Storage\n",
    "\n",
    "* 檔案儲存成物件(Object)\n",
    "* 每個物件有獨特的ID \n",
    "* metadata用來描述物件的屬性\n",
    "* 物件分散存儲於各個實體節點\n",
    "* 透過metadata連結物件\n",
    "\n",
    "\n",
    "<img src=\"https://github.com/xxxxsars/slide/blob/master/pic/object_storage_schema.png?raw=true\">\n"
   ]
  },
  {
   "cell_type": "markdown",
   "metadata": {
    "slideshow": {
     "slide_type": "slide"
    }
   },
   "source": [
    "### 如何操作Object Storage"
   ]
  },
  {
   "cell_type": "markdown",
   "metadata": {
    "slideshow": {
     "slide_type": "subslide"
    }
   },
   "source": [
    "必須先建立bucket"
   ]
  },
  {
   "cell_type": "markdown",
   "metadata": {
    "slideshow": {
     "slide_type": "fragment"
    }
   },
   "source": [
    "檔案必須儲存於bucket中(Bucket裏面無法再放一個Bucket，但可以放folder)，可以想像bucket就是一顆硬碟。"
   ]
  },
  {
   "cell_type": "markdown",
   "metadata": {
    "slideshow": {
     "slide_type": "subslide"
    }
   },
   "source": [
    "透過ResfFul API 進行存取\n",
    "\n",
    "![](https://github.com/xxxxsars/slide/blob/master/pic/objectstorage.png?raw=true)\n"
   ]
  },
  {
   "cell_type": "markdown",
   "metadata": {
    "slideshow": {
     "slide_type": "slide"
    }
   },
   "source": [
    "### Block Storage? File Storage ? Object Storage 差異"
   ]
  },
  {
   "cell_type": "markdown",
   "metadata": {
    "slideshow": {
     "slide_type": "subslide"
    }
   },
   "source": [
    "\n",
    "\n",
    "\n",
    "Block Storage:相當於一塊硬碟，**以block為儲存單位**，你可以在上面建立FIle System（如Fat32,NTFS..等），來進行檔案操作。\n",
    "\n",
    "\n"
   ]
  },
  {
   "cell_type": "markdown",
   "metadata": {
    "slideshow": {
     "slide_type": "fragment"
    }
   },
   "source": [
    "   File Storage:相當於一個共享資料夾(如samba)，**以File(檔案)為儲存單位**。\n"
   ]
  },
  {
   "cell_type": "markdown",
   "metadata": {
    "slideshow": {
     "slide_type": "fragment"
    }
   },
   "source": [
    "Object Storage:透過API與Object Storage溝通進行檔案存取，**以Objcet為單位**，一個檔案可能會被切割為多個object儲存。"
   ]
  },
  {
   "cell_type": "markdown",
   "metadata": {
    "slideshow": {
     "slide_type": "subslide"
    }
   },
   "source": [
    "### 優缺點比較\n",
    " \n",
    "\n",
    "<table style=\"font-size:25px\">\n",
    "<thead><tr>\n",
    "<th>類型</th>\n",
    "<th>單位</th>\n",
    "<th>讀寫I\\O</th>\n",
    "<th>共享能力</th>\n",
    "<th>擴展性</th>\n",
    "<th>可靠性</th>\n",
    "</tr>\n",
    "</thead>\n",
    "<tbody>\n",
    "<tr>\n",
    "<td>block storage</td>\n",
    "<td>block</td>\n",
    "<td>高</td>\n",
    "<td>差</td>\n",
    "<td>差</td>\n",
    "<td>強</td>\n",
    "</tr>\n",
    "<tr>\n",
    "<td>File Storage</td>\n",
    "<td>File</td>\n",
    "<td>低</td>\n",
    "<td>強</td>\n",
    "<td>中</td>\n",
    "<td>中</td>\n",
    "</tr>\n",
    "<tr>\n",
    "<td>Object Storage</td>\n",
    "<td>Object</td>\n",
    "<td>中</td>\n",
    "<td>強</td>\n",
    "<td>強</td>\n",
    "<td>強</td>\n",
    "</tr>\n",
    "</tbody>\n",
    "</table>\n"
   ]
  },
  {
   "cell_type": "markdown",
   "metadata": {
    "slideshow": {
     "slide_type": "slide"
    }
   },
   "source": [
    "### Object Storage 應用\n",
    "\n",
    "King County 第一年使用 Amazon S3取代傳統磁碟備份省下一百萬美元"
   ]
  },
  {
   "cell_type": "markdown",
   "metadata": {
    "slideshow": {
     "slide_type": "fragment"
    }
   },
   "source": [
    "King County是華盛頓州人口最多的縣，擁有約**190萬居民**，該縣需存儲由17個不同縣級機構生成的資訊，因此利用Amazon s3來取代傳統的硬碟備份，因不必更換過時伺服器，降低與數據存儲相關的運營成本，該縣第一年節省了約100萬美元。"
   ]
  },
  {
   "cell_type": "markdown",
   "metadata": {
    "slideshow": {
     "slide_type": "subslide"
    }
   },
   "source": [
    "### 其他使用情境\n",
    "* 醫療保健資訊存檔 : 醫院系統需要保留數 PB 的病患記錄長達數十年。\n",
    "\n",
    "\n",
    "* 法規和合規存檔 : 金融服務和醫療保健這樣的許多企業都必須長時間保留法規和合規存檔。\n",
    "\n",
    "\n",
    "* 數位保留 : 圖書館和政府機構在努力進行數位保存時，面對到資料整合的難題，Amazon s3可以定期執行系統的資料完整性檢查，並且內建自動的自我修復能力。\n"
   ]
  },
  {
   "cell_type": "markdown",
   "metadata": {
    "slideshow": {
     "slide_type": "slide"
    }
   },
   "source": [
    "### Object Storage  操作\n",
    "> 以minio為例"
   ]
  },
  {
   "cell_type": "markdown",
   "metadata": {
    "slideshow": {
     "slide_type": "subslide"
    }
   },
   "source": [
    "1. 下載Minio Server [Download Link](https://min.io/download#/windows)\n"
   ]
  },
  {
   "cell_type": "markdown",
   "metadata": {
    "slideshow": {
     "slide_type": "fragment"
    }
   },
   "source": [
    "2. 啟動Minin Server\n",
    "\n",
    "```bash\n",
    "mkdir data \n",
    "./minio server data/   \n",
    "```"
   ]
  },
  {
   "cell_type": "markdown",
   "metadata": {
    "slideshow": {
     "slide_type": "fragment"
    }
   },
   "source": [
    "3. 透過browser存取 [Link](http://localhost:9000/minio/login)\n"
   ]
  },
  {
   "cell_type": "markdown",
   "metadata": {
    "slideshow": {
     "slide_type": "fragment"
    }
   },
   "source": [
    "\n",
    "4. 透過golang來操作 [如何安裝](https://golang.org/doc/install)"
   ]
  },
  {
   "cell_type": "markdown",
   "metadata": {
    "slideshow": {
     "slide_type": "subslide"
    }
   },
   "source": [
    "* 安裝golang minio sdk\n",
    "```golang\n",
    "go get -u github.com/minio/minio-go\n",
    "```"
   ]
  },
  {
   "cell_type": "markdown",
   "metadata": {
    "slideshow": {
     "slide_type": "subslide"
    }
   },
   "source": [
    "* 建立Bucket "
   ]
  },
  {
   "cell_type": "code",
   "execution_count": 3,
   "metadata": {
    "slideshow": {
     "slide_type": "subslide"
    }
   },
   "outputs": [],
   "source": [
    "import (\n",
    "\t\"github.com/minio/minio-go\"\n",
    "\t\"log\"\n",
    ")"
   ]
  },
  {
   "cell_type": "code",
   "execution_count": 4,
   "metadata": {
    "slideshow": {
     "slide_type": "fragment"
    }
   },
   "outputs": [],
   "source": [
    "endpoint := \"localhost:9000\"\n",
    "accessKeyID := \"<your server ID>\"\n",
    "secretAccessKey := \"<your server key>\"\n",
    "bucketName := \"test\"\n",
    "useSSL := false\n",
    "\n",
    "minioClient, err := minio.New(endpoint, accessKeyID, secretAccessKey, useSSL)\n",
    "if err != nil {\n",
    "    log.Fatalln(err)\n",
    "}"
   ]
  },
  {
   "cell_type": "code",
   "execution_count": null,
   "metadata": {
    "slideshow": {
     "slide_type": "subslide"
    }
   },
   "outputs": [],
   "source": [
    "location := \"us-east-1\"\n",
    "err = minioClient.MakeBucket(bucketName, location)\n",
    "if err != nil {\n",
    "    exists, err := minioClient.BucketExists(bucketName)\n",
    "    if err == nil && exists {\n",
    "        log.Printf(\"We already own %s\\n\", bucketName)\n",
    "    } else {\n",
    "        log.Fatalln(err)\n",
    "    }\n",
    "} else {\n",
    "    log.Printf(\"Successfully created %s\\n\", bucketName)\n",
    "}"
   ]
  },
  {
   "cell_type": "markdown",
   "metadata": {
    "slideshow": {
     "slide_type": "subslide"
    }
   },
   "source": [
    "* 上傳檔案到bucket"
   ]
  },
  {
   "cell_type": "code",
   "execution_count": null,
   "metadata": {
    "slideshow": {
     "slide_type": "subslide"
    }
   },
   "outputs": [],
   "source": [
    "fileName := \"test.txt\"\n",
    "objectName := fileName\n",
    "\n",
    "n, err := minioClient.FPutObject(bucketName, objectName, fileName, minio.PutObjectOptions{})\n",
    "if err != nil {\n",
    "    log.Println(err)\n",
    "    return\n",
    "}\n",
    "log.Println(\"Successfully uploaded bytes: \", n)"
   ]
  },
  {
   "cell_type": "markdown",
   "metadata": {
    "slideshow": {
     "slide_type": "subslide"
    }
   },
   "source": [
    "* 查詢上傳的檔案"
   ]
  },
  {
   "cell_type": "code",
   "execution_count": null,
   "metadata": {
    "slideshow": {
     "slide_type": "subslide"
    }
   },
   "outputs": [],
   "source": [
    "doneCh := make(chan struct{})\n",
    "defer close(doneCh)\n",
    "\n",
    "isRecursive := true\n",
    "objectCh := minioClient.ListObjects(bucketName, \"test.txt\", isRecursive, doneCh)\n",
    "\n",
    "for object := range objectCh {\n",
    "    if object.Err != nil {\n",
    "        log.Println(object.Err)\n",
    "    }\n",
    "    log.Println(object.Key, object.Size)\n",
    "}"
   ]
  },
  {
   "cell_type": "markdown",
   "metadata": {
    "slideshow": {
     "slide_type": "subslide"
    }
   },
   "source": [
    "* 刪除檔案"
   ]
  },
  {
   "cell_type": "code",
   "execution_count": null,
   "metadata": {
    "slideshow": {
     "slide_type": "subslide"
    }
   },
   "outputs": [],
   "source": [
    "err = minioClient.RemoveObject(bucketName, objectName)\n",
    "if err != nil {\n",
    "    fmt.Println(err)\n",
    "    return\n",
    "}"
   ]
  },
  {
   "cell_type": "markdown",
   "metadata": {
    "slideshow": {
     "slide_type": "slide"
    }
   },
   "source": [
    "### Q&A"
   ]
  }
 ],
 "metadata": {
  "celltoolbar": "Slideshow",
  "kernelspec": {
   "display_name": "Go",
   "language": "go",
   "name": "gophernotes"
  },
  "language_info": {
   "codemirror_mode": "",
   "file_extension": ".go",
   "mimetype": "",
   "name": "go",
   "nbconvert_exporter": "",
   "pygments_lexer": "",
   "version": "go1.11.2"
  }
 },
 "nbformat": 4,
 "nbformat_minor": 2
}
