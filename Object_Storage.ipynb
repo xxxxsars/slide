{
 "cells": [
  {
   "cell_type": "markdown",
   "metadata": {
    "slideshow": {
     "slide_type": "slide"
    }
   },
   "source": [
    "# Object Storage介紹\n",
    "\n",
    "> AWS S3 與 minio Server\n",
    "\n",
    "\n",
    "Author:[Andy.Huang](mailto:Reui.Huang@qsitw.com)"
   ]
  },
  {
   "cell_type": "markdown",
   "metadata": {
    "slideshow": {
     "slide_type": "slide"
    }
   },
   "source": [
    "### 什麼是Object Storage\n",
    "\n",
    "* 檔案儲存成物件(Object)\n",
    "* 每個物件有獨特的ID \n",
    "* metadata用來描述物件的屬性\n",
    "* 物件分散存儲於各個實體節點\n",
    "* 透過metadata連結物件"
   ]
  },
  {
   "cell_type": "code",
   "execution_count": null,
   "metadata": {},
   "outputs": [],
   "source": []
  }
 ],
 "metadata": {
  "celltoolbar": "Slideshow",
  "kernelspec": {
   "display_name": "Python 3",
   "language": "python",
   "name": "python3"
  },
  "language_info": {
   "codemirror_mode": {
    "name": "ipython",
    "version": 3
   },
   "file_extension": ".py",
   "mimetype": "text/x-python",
   "name": "python",
   "nbconvert_exporter": "python",
   "pygments_lexer": "ipython3",
   "version": "3.7.0"
  }
 },
 "nbformat": 4,
 "nbformat_minor": 2
}
