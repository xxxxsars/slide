{
 "cells": [
  {
   "cell_type": "markdown",
   "metadata": {
    "slideshow": {
     "slide_type": "slide"
    }
   },
   "source": [
    "# Object Storage\n",
    "\n",
    "> 以minio object為例\n",
    "\n",
    "\n",
    "講者:[Andy.Huang](mailto:Reui.Huang@qsitw.com)"
   ]
  },
  {
   "cell_type": "markdown",
   "metadata": {
    "slideshow": {
     "slide_type": "slide"
    }
   },
   "source": [
    "### 什麼是Object Storage\n",
    "\n",
    "* 檔案儲存成物件(Object)\n",
    "* 每個物件有獨特的ID \n",
    "* metadata用來描述物件的屬性\n",
    "* 物件分散存儲於各個實體節點\n",
    "* 透過metadata連結物件\n",
    "\n",
    "\n",
    "<img src=\"https://raw.githubusercontent.com/xxxxsars/slide/master/pic/object_storage_schema.png\">\n"
   ]
  },
  {
   "cell_type": "markdown",
   "metadata": {
    "slideshow": {
     "slide_type": "slide"
    }
   },
   "source": [
    "### Block Storage? File Storage ? Object Storage 差異"
   ]
  },
  {
   "cell_type": "markdown",
   "metadata": {
    "slideshow": {
     "slide_type": "subslide"
    }
   },
   "source": [
    "\n",
    "\n",
    "\n",
    "Block Storage:相當於一塊硬碟，**以block為儲存單位**，你可以在上面建立FIle System（如Fat32,NTFS..等），來進行檔案操作。\n",
    "\n",
    "\n"
   ]
  },
  {
   "cell_type": "markdown",
   "metadata": {
    "slideshow": {
     "slide_type": "subslide"
    }
   },
   "source": [
    "   File Storage:相當於一個共享資料夾(如samba)，**以File(檔案)為儲存單位**。\n"
   ]
  },
  {
   "cell_type": "markdown",
   "metadata": {
    "slideshow": {
     "slide_type": "subslide"
    }
   },
   "source": [
    "Object Storage:透過API與Object Storage溝通進行檔案存取，**以Objcet為單位**，一個檔案可能會被切割為多個object儲存。"
   ]
  },
  {
   "cell_type": "markdown",
   "metadata": {
    "slideshow": {
     "slide_type": "subslide"
    }
   },
   "source": [
    "### 優缺點比較\n",
    " \n",
    "\n",
    "<table style=\"font-size:25px\">\n",
    "<thead><tr>\n",
    "<th>類型</th>\n",
    "<th>單位</th>\n",
    "<th>讀寫I\\O</th>\n",
    "<th>共享能力</th>\n",
    "<th>擴展性</th>\n",
    "<th>可靠性</th>\n",
    "</tr>\n",
    "</thead>\n",
    "<tbody>\n",
    "<tr>\n",
    "<td>block storage</td>\n",
    "<td>block</td>\n",
    "<td>高</td>\n",
    "<td>差</td>\n",
    "<td>差</td>\n",
    "<td>強</td>\n",
    "</tr>\n",
    "<tr>\n",
    "<td>File Storage</td>\n",
    "<td>File</td>\n",
    "<td>低</td>\n",
    "<td>強</td>\n",
    "<td>中</td>\n",
    "<td>中</td>\n",
    "</tr>\n",
    "<tr>\n",
    "<td>Object Storage</td>\n",
    "<td>Object</td>\n",
    "<td>高</td>\n",
    "<td>強</td>\n",
    "<td>強</td>\n",
    "<td>強</td>\n",
    "</tr>\n",
    "</tbody>\n",
    "</table>\n"
   ]
  },
  {
   "cell_type": "markdown",
   "metadata": {
    "slideshow": {
     "slide_type": "slide"
    }
   },
   "source": [
    "### Object storage 應用"
   ]
  }
 ],
 "metadata": {
  "celltoolbar": "Slideshow",
  "kernelspec": {
   "display_name": "Python 3",
   "language": "python",
   "name": "python3"
  },
  "language_info": {
   "codemirror_mode": {
    "name": "ipython",
    "version": 3
   },
   "file_extension": ".py",
   "mimetype": "text/x-python",
   "name": "python",
   "nbconvert_exporter": "python",
   "pygments_lexer": "ipython3",
   "version": "3.7.0"
  }
 },
 "nbformat": 4,
 "nbformat_minor": 2
}
